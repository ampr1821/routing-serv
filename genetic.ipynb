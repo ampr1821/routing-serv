{
 "cells": [
  {
   "cell_type": "code",
   "execution_count": 1,
   "metadata": {},
   "outputs": [],
   "source": [
    "import osmnx as ox\n",
    "import networkx as nx\n",
    "import random\n",
    "import numpy as np"
   ]
  },
  {
   "cell_type": "code",
   "execution_count": 2,
   "metadata": {},
   "outputs": [],
   "source": [
    "class MapGraph():\n",
    "    def __init__(self, graph):\n",
    "        self.graph = graph\n",
    "\n",
    "    def distance_between(self, n1, n2):\n",
    "        if 'length' in self.graph[n1][n2]:\n",
    "            return self.graph[n1][n2]['length']\n",
    "        else:\n",
    "            return 99999999 # return a large number if 'length' attribute is not present\n",
    "\n",
    "    def create_path(self, path_list):\n",
    "        path = []\n",
    "        for i in range(len(path_list)-1):\n",
    "            path += nx.shortest_path(self.graph, path_list[i], path_list[i+1], weight='length')\n",
    "        return path\n",
    "\n",
    "    def evaluate_fitness(self, path):\n",
    "        # Calculate the total distance of the path\n",
    "        total_distance = sum([self.distance_between(path[i], path[i+1]) for i in range(len(path)-1)])\n",
    "        return 1 / total_distance # Return the fitness as the reciprocal of the total distance\n",
    "\n",
    "    def generate_initial_population(self, population_size):\n",
    "        # Generate a random permutation of nodes as the initial population\n",
    "        nodes = list(self.graph.nodes())\n",
    "        initial_population = [random.sample(nodes, len(nodes)) for i in range(population_size)]\n",
    "        return initial_population\n",
    "\n",
    "    def select_parents(self, population, fitness_scores):\n",
    "        # Select two parents from the population using tournament selection\n",
    "        k = 5\n",
    "        idx = np.random.choice(len(population), size=k, replace=False)\n",
    "        tournament_population = [population[i] for i in idx]\n",
    "        tournament_fitness_scores = [fitness_scores[i] for i in idx]\n",
    "        idx1 = np.argmax(tournament_fitness_scores)\n",
    "        tournament_population.pop(idx1)\n",
    "        tournament_fitness_scores.pop(idx1)\n",
    "        idx2 = np.argmax(tournament_fitness_scores)\n",
    "        parent1 = tournament_population[idx1]\n",
    "        parent2 = tournament_population[idx2]\n",
    "        return parent1, parent2\n",
    "\n",
    "    def crossover(self, parent1, parent2):\n",
    "        # Perform crossover by selecting a random subsequence from parent1 and filling the remaining nodes with the nodes from parent2\n",
    "        crossover_point = random.randint(0, len(parent1)-1)\n",
    "        child = parent1[crossover_point:]\n",
    "        for node in parent2:\n",
    "            if node not in child:\n",
    "                child.append(node)\n",
    "        return child\n",
    "\n",
    "    def mutate(self, individual):\n",
    "        # Perform mutation by swapping two randomly selected nodes\n",
    "        idx1, idx2 = random.sample(range(len(individual)), 2)\n",
    "        individual[idx1], individual[idx2] = individual[idx2], individual[idx1]\n",
    "        return individual\n",
    "\n",
    "    def evolve_population(self, population, fitness_scores, elitism=True):\n",
    "        # Perform elitism by selecting the best individual from the previous generation\n",
    "        if elitism:\n",
    "            elite_idx = np.argmax(fitness_scores)\n",
    "            new_population = [population[elite_idx]]\n",
    "        else:\n",
    "            new_population = []\n",
    "\n",
    "        # Generate new offspring using crossover and mutation\n",
    "        while len(new_population) < len(population):\n",
    "            parent1, parent2 = self.select_parents(population, fitness_scores)\n",
    "            child = self.crossover(parent1, parent2)\n",
    "            child"
   ]
  },
  {
   "cell_type": "code",
   "execution_count": null,
   "metadata": {},
   "outputs": [],
   "source": []
  }
 ],
 "metadata": {
  "kernelspec": {
   "display_name": "Python 3",
   "language": "python",
   "name": "python3"
  },
  "language_info": {
   "codemirror_mode": {
    "name": "ipython",
    "version": 3
   },
   "file_extension": ".py",
   "mimetype": "text/x-python",
   "name": "python",
   "nbconvert_exporter": "python",
   "pygments_lexer": "ipython3",
   "version": "3.10.1"
  },
  "orig_nbformat": 4,
  "vscode": {
   "interpreter": {
    "hash": "b5509e2d5d24facd2c7ce5bb1947befc02185289efa3b0a3212fcadee0d354e0"
   }
  }
 },
 "nbformat": 4,
 "nbformat_minor": 2
}
