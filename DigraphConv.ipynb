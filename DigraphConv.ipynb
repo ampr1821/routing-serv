{
 "cells": [
  {
   "cell_type": "code",
   "execution_count": 2,
   "id": "fde011e2",
   "metadata": {},
   "outputs": [],
   "source": [
    "import osmnx as ox\n",
    "import pandas as pd\n",
    "import pickle"
   ]
  },
  {
   "cell_type": "code",
   "execution_count": 29,
   "id": "cde9c859",
   "metadata": {
    "scrolled": true
   },
   "outputs": [
    {
     "name": "stdout",
     "output_type": "stream",
     "text": [
      "[(62053453, 1532827726, {'weight': 190.669}), (62053453, 62053447, {'weight': 55.649}), (2224503502, 62053457, {'weight': 39.343}), (2224503502, 62053453, {'weight': 41.023}), (2224503502, 2224503496, {'weight': 186.31})]\n"
     ]
    }
   ],
   "source": [
    "G = nx.DiGraph()\n",
    "for u,v,data in blrgraph.edges(data=True):\n",
    "    w = data['length'] if 'length' in data else 0.0\n",
    "    if G.has_edge(u,v):\n",
    "        G[u][v]['weight'] += w\n",
    "    else:\n",
    "        G.add_edge(u, v, weight=w)\n",
    "\n",
    "# print(G.edges(data=True)[5:10])\n",
    "print(list(G.edges(data=True))[5:10])\n"
   ]
  },
  {
   "cell_type": "code",
   "execution_count": 3,
   "id": "7cc655df",
   "metadata": {},
   "outputs": [],
   "source": [
    "f = open('blr.bin', 'rb')\n",
    "Gp = pickle.load(f)"
   ]
  },
  {
   "cell_type": "code",
   "execution_count": null,
   "id": "c4f265de",
   "metadata": {},
   "outputs": [],
   "source": [
    "Gp = ox.graph_from_place(\"Bengaluru, India\", network_type='drive')\n"
   ]
  },
  {
   "cell_type": "code",
   "execution_count": 13,
   "id": "ebae351b",
   "metadata": {},
   "outputs": [],
   "source": [
    "with open('test.bin','wb') as f:\n",
    "    pickle.dump(Gp, f)"
   ]
  },
  {
   "cell_type": "code",
   "execution_count": 33,
   "id": "4c95e127",
   "metadata": {},
   "outputs": [
    {
     "name": "stdout",
     "output_type": "stream",
     "text": [
      "dict_keys(['osmid', 'oneway', 'lanes', 'ref', 'name', 'highway', 'maxspeed', 'reversed', 'length'])\n"
     ]
    }
   ],
   "source": [
    "u,v = tuple(Gp.edges.items())[7]\n",
    "print(v.keys())\n",
    "# for u,v in Gp.edges.items():\n",
    "    # print(v.keys())"
   ]
  },
  {
   "cell_type": "code",
   "execution_count": null,
   "id": "b1aa0181",
   "metadata": {},
   "outputs": [],
   "source": [
    "for u,v in Gp.edges.items():\n",
    "    print "
   ]
  },
  {
   "cell_type": "code",
   "execution_count": 10,
   "id": "d89fff86",
   "metadata": {},
   "outputs": [
    {
     "ename": "ValueError",
     "evalue": "too many values to unpack (expected 2)",
     "output_type": "error",
     "traceback": [
      "\u001b[1;31m---------------------------------------------------------------------------\u001b[0m",
      "\u001b[1;31mValueError\u001b[0m                                Traceback (most recent call last)",
      "\u001b[1;32md:\\College\\Projects\\routing-serv\\DigraphConv.ipynb Cell 5\u001b[0m in \u001b[0;36m2\n\u001b[0;32m      <a href='vscode-notebook-cell:/d%3A/College/Projects/routing-serv/DigraphConv.ipynb#X22sZmlsZQ%3D%3D?line=0'>1</a>\u001b[0m c \u001b[39m=\u001b[39m \u001b[39m0\u001b[39m; f \u001b[39m=\u001b[39m \u001b[39mopen\u001b[39m(\u001b[39m'\u001b[39m\u001b[39mGp.csv\u001b[39m\u001b[39m'\u001b[39m, \u001b[39m'\u001b[39m\u001b[39mw\u001b[39m\u001b[39m'\u001b[39m)\n\u001b[1;32m----> <a href='vscode-notebook-cell:/d%3A/College/Projects/routing-serv/DigraphConv.ipynb#X22sZmlsZQ%3D%3D?line=1'>2</a>\u001b[0m \u001b[39mfor\u001b[39;00m u,v \u001b[39min\u001b[39;00m Gp\u001b[39m.\u001b[39medges:\n\u001b[0;32m      <a href='vscode-notebook-cell:/d%3A/College/Projects/routing-serv/DigraphConv.ipynb#X22sZmlsZQ%3D%3D?line=2'>3</a>\u001b[0m     lat1 \u001b[39m=\u001b[39m Gp\u001b[39m.\u001b[39mnodes[u]\u001b[39m.\u001b[39mget(\u001b[39m'\u001b[39m\u001b[39my\u001b[39m\u001b[39m'\u001b[39m)\n\u001b[0;32m      <a href='vscode-notebook-cell:/d%3A/College/Projects/routing-serv/DigraphConv.ipynb#X22sZmlsZQ%3D%3D?line=3'>4</a>\u001b[0m     lon1 \u001b[39m=\u001b[39m Gp\u001b[39m.\u001b[39mnodes[u]\u001b[39m.\u001b[39mget(\u001b[39m'\u001b[39m\u001b[39mx\u001b[39m\u001b[39m'\u001b[39m)\n",
      "\u001b[1;31mValueError\u001b[0m: too many values to unpack (expected 2)"
     ]
    }
   ],
   "source": [
    "c = 0; f = open('Gp.csv', 'w')\n",
    "for u,v in Gp.edges:\n",
    "    lat1 = Gp.nodes[u].get('y')\n",
    "    lon1 = Gp.nodes[u].get('x')\n",
    "    lat2 = Gp.nodes[v].get('y')\n",
    "    lon2 = Gp.nodes[v].get('x')\n",
    "    \n",
    "    f.write(str(lat1) + ',' + str(lon1) + ',' + str(lat2) + ',' + str(lon2) + ',' + str(G[u][v]['weight']) + '\\n')\n",
    "\n",
    "f.close()"
   ]
  },
  {
   "cell_type": "code",
   "execution_count": null,
   "id": "e18204d9",
   "metadata": {},
   "outputs": [],
   "source": [
    "L = list(G.edges(data=True))[5:10]\n",
    "f = open('fileS1.txt', 'w')\n",
    "for t in L :\n",
    "    line = ' '.join(str(x) for x in t)\n",
    "    f.write(line + '\\n')\n",
    "f.close()\n",
    "\n",
    "\n",
    "file1 = open('fileS1.txt', 'r')\n",
    "print(file1.read())\n",
    "file1.close()"
   ]
  },
  {
   "cell_type": "code",
   "execution_count": 5,
   "id": "921ee2a1",
   "metadata": {},
   "outputs": [
    {
     "name": "stdout",
     "output_type": "stream",
     "text": [
      "404360\n"
     ]
    }
   ],
   "source": [
    "\n",
    "print(len(Gp.edges))"
   ]
  },
  {
   "cell_type": "code",
   "execution_count": 9,
   "id": "b72125fb",
   "metadata": {},
   "outputs": [
    {
     "ename": "TypeError",
     "evalue": "cannot unpack non-iterable int object",
     "output_type": "error",
     "traceback": [
      "\u001b[1;31m---------------------------------------------------------------------------\u001b[0m",
      "\u001b[1;31mTypeError\u001b[0m                                 Traceback (most recent call last)",
      "\u001b[1;32md:\\College\\Projects\\routing-serv\\DigraphConv.ipynb Cell 8\u001b[0m in \u001b[0;36m1\n\u001b[1;32m----> <a href='vscode-notebook-cell:/d%3A/College/Projects/routing-serv/DigraphConv.ipynb#X25sZmlsZQ%3D%3D?line=0'>1</a>\u001b[0m u,v,w \u001b[39m=\u001b[39m Gp\u001b[39m.\u001b[39medges[\u001b[39m0\u001b[39m]\n\u001b[0;32m      <a href='vscode-notebook-cell:/d%3A/College/Projects/routing-serv/DigraphConv.ipynb#X25sZmlsZQ%3D%3D?line=1'>2</a>\u001b[0m \u001b[39mprint\u001b[39m(u,v,w)\n",
      "File \u001b[1;32m~\\AppData\\Roaming\\Python\\Python310\\site-packages\\networkx\\classes\\reportviews.py:1361\u001b[0m, in \u001b[0;36mOutMultiEdgeView.__getitem__\u001b[1;34m(self, e)\u001b[0m\n\u001b[0;32m   1356\u001b[0m \u001b[39mif\u001b[39;00m \u001b[39misinstance\u001b[39m(e, \u001b[39mslice\u001b[39m):\n\u001b[0;32m   1357\u001b[0m     \u001b[39mraise\u001b[39;00m nx\u001b[39m.\u001b[39mNetworkXError(\n\u001b[0;32m   1358\u001b[0m         \u001b[39mf\u001b[39m\u001b[39m\"\u001b[39m\u001b[39m{\u001b[39;00m\u001b[39mtype\u001b[39m(\u001b[39mself\u001b[39m)\u001b[39m.\u001b[39m\u001b[39m__name__\u001b[39m\u001b[39m}\u001b[39;00m\u001b[39m does not support slicing, \u001b[39m\u001b[39m\"\u001b[39m\n\u001b[0;32m   1359\u001b[0m         \u001b[39mf\u001b[39m\u001b[39m\"\u001b[39m\u001b[39mtry list(G.edges)[\u001b[39m\u001b[39m{\u001b[39;00me\u001b[39m.\u001b[39mstart\u001b[39m}\u001b[39;00m\u001b[39m:\u001b[39m\u001b[39m{\u001b[39;00me\u001b[39m.\u001b[39mstop\u001b[39m}\u001b[39;00m\u001b[39m:\u001b[39m\u001b[39m{\u001b[39;00me\u001b[39m.\u001b[39mstep\u001b[39m}\u001b[39;00m\u001b[39m]\u001b[39m\u001b[39m\"\u001b[39m\n\u001b[0;32m   1360\u001b[0m     )\n\u001b[1;32m-> 1361\u001b[0m u, v, k \u001b[39m=\u001b[39m e\n\u001b[0;32m   1362\u001b[0m \u001b[39mreturn\u001b[39;00m \u001b[39mself\u001b[39m\u001b[39m.\u001b[39m_adjdict[u][v][k]\n",
      "\u001b[1;31mTypeError\u001b[0m: cannot unpack non-iterable int object"
     ]
    }
   ],
   "source": [
    "u,v,w = Gp.edges[0]\n",
    "print(u,v,w)"
   ]
  },
  {
   "cell_type": "code",
   "execution_count": null,
   "id": "da77bf5b",
   "metadata": {},
   "outputs": [],
   "source": []
  }
 ],
 "metadata": {
  "kernelspec": {
   "display_name": "Python 3 (ipykernel)",
   "language": "python",
   "name": "python3"
  },
  "language_info": {
   "codemirror_mode": {
    "name": "ipython",
    "version": 3
   },
   "file_extension": ".py",
   "mimetype": "text/x-python",
   "name": "python",
   "nbconvert_exporter": "python",
   "pygments_lexer": "ipython3",
   "version": "3.10.7"
  },
  "vscode": {
   "interpreter": {
    "hash": "f5ff168696553f3e2cb115c273c46eeb315c32b0d0536992c4bad2740a7f9469"
   }
  }
 },
 "nbformat": 4,
 "nbformat_minor": 5
}
