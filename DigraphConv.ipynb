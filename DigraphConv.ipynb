{
 "cells": [
  {
   "cell_type": "code",
   "execution_count": 3,
   "id": "fde011e2",
   "metadata": {},
   "outputs": [],
   "source": [
    "import osmnx as ox\n",
    "import pandas as pd\n",
    "import pickle"
   ]
  },
  {
   "cell_type": "code",
   "execution_count": 29,
   "id": "cde9c859",
   "metadata": {
    "scrolled": true
   },
   "outputs": [
    {
     "name": "stdout",
     "output_type": "stream",
     "text": [
      "[(62053453, 1532827726, {'weight': 190.669}), (62053453, 62053447, {'weight': 55.649}), (2224503502, 62053457, {'weight': 39.343}), (2224503502, 62053453, {'weight': 41.023}), (2224503502, 2224503496, {'weight': 186.31})]\n"
     ]
    }
   ],
   "source": [
    "G = nx.DiGraph()\n",
    "for u,v,data in blrgraph.edges(data=True):\n",
    "    w = data['length'] if 'length' in data else 0.0\n",
    "    if G.has_edge(u,v):\n",
    "        G[u][v]['weight'] += w\n",
    "    else:\n",
    "        G.add_edge(u, v, weight=w)\n",
    "\n",
    "# print(G.edges(data=True)[5:10])\n",
    "print(list(G.edges(data=True))[5:10])\n"
   ]
  },
  {
   "cell_type": "code",
   "execution_count": 5,
   "id": "7cc655df",
   "metadata": {},
   "outputs": [],
   "source": [
    "f = open('blr.bin', 'rb')\n",
    "Gp = pickle.load(f)"
   ]
  },
  {
   "cell_type": "code",
   "execution_count": 10,
   "id": "c4f265de",
   "metadata": {},
   "outputs": [],
   "source": [
    "Gp = ox.graph_from_place(\"Bengaluru, India\", network_type='drive')"
   ]
  },
  {
   "cell_type": "code",
   "execution_count": 37,
   "id": "d89fff86",
   "metadata": {},
   "outputs": [],
   "source": [
    "c = 0; f = open('blr.csv', 'w')\n",
    "for u,v in G.edges:\n",
    "    lat1 = blrgraph.nodes[u].get('y')\n",
    "    lon1 = blrgraph.nodes[u].get('x')\n",
    "    lat2 = blrgraph.nodes[v].get('y')\n",
    "    lon2 = blrgraph.nodes[v].get('x')\n",
    "    \n",
    "    f.write(str(lat1) + ',' + str(lon1) + ',' + str(lat2) + ',' + str(lon2) + ',' + str(G[u][v]['weight']) + '\\n')\n",
    "\n",
    "f.close()"
   ]
  },
  {
   "cell_type": "code",
   "execution_count": null,
   "id": "e18204d9",
   "metadata": {},
   "outputs": [],
   "source": [
    "L = list(G.edges(data=True))[5:10]\n",
    "f = open('fileS1.txt', 'w')\n",
    "for t in L :\n",
    "    line = ' '.join(str(x) for x in t)\n",
    "    f.write(line + '\\n')\n",
    "f.close()\n",
    "\n",
    "\n",
    "file1 = open('fileS1.txt', 'r')\n",
    "print(file1.read())\n",
    "file1.close()"
   ]
  }
 ],
 "metadata": {
  "kernelspec": {
   "display_name": "Python 3 (ipykernel)",
   "language": "python",
   "name": "python3"
  },
  "language_info": {
   "codemirror_mode": {
    "name": "ipython",
    "version": 3
   },
   "file_extension": ".py",
   "mimetype": "text/x-python",
   "name": "python",
   "nbconvert_exporter": "python",
   "pygments_lexer": "ipython3",
   "version": "3.10.7"
  },
  "vscode": {
   "interpreter": {
    "hash": "f5ff168696553f3e2cb115c273c46eeb315c32b0d0536992c4bad2740a7f9469"
   }
  }
 },
 "nbformat": 4,
 "nbformat_minor": 5
}
