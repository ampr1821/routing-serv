{
 "cells": [
  {
   "cell_type": "code",
   "execution_count": 2,
   "id": "fde011e2",
   "metadata": {},
   "outputs": [],
   "source": [
    "import osmnx as ox\n",
    "import pandas as pd\n",
    "import networkx as nx\n",
    "import pickle, math\n",
    "import random\n",
    "from shapely.geometry import LineString"
   ]
  },
  {
   "cell_type": "code",
   "execution_count": 5,
   "id": "cde9c859",
   "metadata": {
    "scrolled": true
   },
   "outputs": [
    {
     "name": "stderr",
     "output_type": "stream",
     "text": [
      "\n",
      "KeyboardInterrupt\n",
      "\n"
     ]
    }
   ],
   "source": [
    "G = nx.DiGraph()\n",
    "for u,v,data in blrgraph.edges(data=True):\n",
    "    w = data['length'] if 'length' in data else 0.0\n",
    "    if G.has_edge(u,v):\n",
    "        G[u][v]['weight'] += w\n",
    "    else:\n",
    "        G.add_edge(u, v, weight=w)\n",
    "\n",
    "# print(G.edges(data=True)[5:10])\n",
    "print(list(G.edges(data=True))[5:10])\n"
   ]
  },
  {
   "cell_type": "code",
   "execution_count": 10,
   "id": "7cc655df",
   "metadata": {},
   "outputs": [],
   "source": [
    "with open('blr.bin', 'rb') as f:\n",
    "    Gp = pickle.load(f)"
   ]
  },
  {
   "cell_type": "code",
   "execution_count": null,
   "id": "c4f265de",
   "metadata": {},
   "outputs": [],
   "source": [
    "Gp = ox.graph_from_place(\"Bengaluru, India\", network_type='drive')\n"
   ]
  },
  {
   "cell_type": "code",
   "execution_count": 9,
   "id": "ebae351b",
   "metadata": {},
   "outputs": [
    {
     "ename": "NameError",
     "evalue": "name 'Gp' is not defined",
     "output_type": "error",
     "traceback": [
      "\u001b[1;31m---------------------------------------------------------------------------\u001b[0m",
      "\u001b[1;31mNameError\u001b[0m                                 Traceback (most recent call last)",
      "Cell \u001b[1;32mIn[9], line 2\u001b[0m\n\u001b[0;32m      1\u001b[0m \u001b[39mwith\u001b[39;00m \u001b[39mopen\u001b[39m(\u001b[39m'\u001b[39m\u001b[39mtest.bin\u001b[39m\u001b[39m'\u001b[39m,\u001b[39m'\u001b[39m\u001b[39mwb\u001b[39m\u001b[39m'\u001b[39m) \u001b[39mas\u001b[39;00m f:\n\u001b[1;32m----> 2\u001b[0m     pickle\u001b[39m.\u001b[39mdump(Gp, f)\n",
      "\u001b[1;31mNameError\u001b[0m: name 'Gp' is not defined"
     ]
    }
   ],
   "source": [
    "with open('test.bin','wb') as f:\n",
    "    pickle.dump(Gp, f)"
   ]
  },
  {
   "cell_type": "code",
   "execution_count": null,
   "id": "4c95e127",
   "metadata": {},
   "outputs": [
    {
     "name": "stdout",
     "output_type": "stream",
     "text": [
      "dict_keys(['osmid', 'oneway', 'lanes', 'ref', 'name', 'highway', 'maxspeed', 'reversed', 'length'])\n"
     ]
    }
   ],
   "source": [
    "u,v = tuple(Gp.edges.items())[7]\n",
    "print(v.keys())\n",
    "# for u,v in Gp.edges.items():\n",
    "    # print(v.keys())"
   ]
  },
  {
   "cell_type": "code",
   "execution_count": 5,
   "id": "5474fa35",
   "metadata": {},
   "outputs": [],
   "source": [
    "def generateIds(leng):\n",
    "  nodeIds = set()\n",
    "  while len(nodeIds) < leng:\n",
    "      nodeId = ''.join(random.choices(('a', 'b', 'c', 'd', 'e', 'f', '0', '1', '2', '3', '4', '5', '6', '7', '8', '9'), k=8))\n",
    "      nodeIds.add(nodeId)\n",
    "  return list(nodeIds)"
   ]
  },
  {
   "cell_type": "code",
   "execution_count": 43,
   "id": "da07410e",
   "metadata": {},
   "outputs": [
    {
     "data": {
      "text/plain": [
       "{2, 3, 4, 8}"
      ]
     },
     "execution_count": 43,
     "metadata": {},
     "output_type": "execute_result"
    }
   ],
   "source": [
    "a = {2, 3}\n",
    "a.update([4, 8])\n",
    "a"
   ]
  },
  {
   "cell_type": "code",
   "execution_count": 24,
   "id": "85b98352",
   "metadata": {},
   "outputs": [],
   "source": [
    "def haversine(pair1, pair2):\n",
    "    \"\"\"\n",
    "    Calculate the great circle distance between two points\n",
    "    on the earth (specified in decimal degrees)\n",
    "    \"\"\"\n",
    "    # convert decimal degrees to radians\n",
    "    lon1, lat1, lon2, lat2 = map(math.radians, [pair1[1], pair1[0], pair2[1], pair2[0]])\n",
    "\n",
    "    # haversine formula\n",
    "    dlon = lon2 - lon1\n",
    "    dlat = lat2 - lat1\n",
    "    a = math.sin(dlat/2)**2 + math.cos(lat1) * math.cos(lat2) * math.sin(dlon/2)**2\n",
    "    c = 2 * math.asin(math.sqrt(a))\n",
    "    r = 6371 # Radius of earth in kilometers. Use 3956 for miles\n",
    "    return c * r * 1000"
   ]
  },
  {
   "cell_type": "code",
   "execution_count": 12,
   "id": "e0bed3e8",
   "metadata": {},
   "outputs": [
    {
     "name": "stdout",
     "output_type": "stream",
     "text": [
      "622334\n"
     ]
    }
   ],
   "source": [
    "c = len(Gp.nodes)\n",
    "for u, v in Gp.edges.items():\n",
    "    if 'geometry' in v.keys():\n",
    "        c += len(v['geometry'].wkt[12:-1].split(','))\n",
    "print(c)"
   ]
  },
  {
   "cell_type": "code",
   "execution_count": 47,
   "id": "19188dd3",
   "metadata": {},
   "outputs": [
    {
     "name": "stdout",
     "output_type": "stream",
     "text": [
      "622334\n"
     ]
    },
    {
     "ename": "KeyboardInterrupt",
     "evalue": "",
     "output_type": "error",
     "traceback": [
      "\u001b[1;31m---------------------------------------------------------------------------\u001b[0m",
      "\u001b[1;31mKeyboardInterrupt\u001b[0m                         Traceback (most recent call last)",
      "Cell \u001b[1;32mIn[47], line 2\u001b[0m\n\u001b[0;32m      1\u001b[0m \u001b[39mprint\u001b[39m(c)\n\u001b[1;32m----> 2\u001b[0m nodeIds \u001b[39m=\u001b[39m generateId(c)\n",
      "Cell \u001b[1;32mIn[46], line 3\u001b[0m, in \u001b[0;36mgenerateId\u001b[1;34m(leng)\u001b[0m\n\u001b[0;32m      1\u001b[0m \u001b[39mdef\u001b[39;00m \u001b[39mgenerateId\u001b[39m(leng):\n\u001b[0;32m      2\u001b[0m     nodeIds \u001b[39m=\u001b[39m []\n\u001b[1;32m----> 3\u001b[0m     \u001b[39mwhile\u001b[39;00m \u001b[39mlen\u001b[39;49m(nodeIds) \u001b[39m<\u001b[39m leng:\n\u001b[0;32m      4\u001b[0m         nodeId \u001b[39m=\u001b[39m []\n\u001b[0;32m      5\u001b[0m         \u001b[39mwhile\u001b[39;00m \u001b[39mlen\u001b[39m(nodeId) \u001b[39m<\u001b[39m \u001b[39m8\u001b[39m:\n",
      "\u001b[1;31mKeyboardInterrupt\u001b[0m: "
     ]
    }
   ],
   "source": [
    "print(c)\n",
    "nodeIds = generateIds(c)"
   ]
  },
  {
   "cell_type": "code",
   "execution_count": 25,
   "id": "b1aa0181",
   "metadata": {},
   "outputs": [
    {
     "name": "stdout",
     "output_type": "stream",
     "text": [
      "True\n"
     ]
    }
   ],
   "source": [
    "G = nx.MultiDiGraph()\n",
    "temp_dict = dict()\n",
    "node_index = 0\n",
    "\n",
    "# for i in Gp.nodes:\n",
    "#     print(Gp.nodes[i].get('x'))\n",
    "#     # G.add_node(i)\n",
    "\n",
    "for u,v in Gp.edges.items():\n",
    "    if u[0] not in temp_dict.keys():\n",
    "        nodeId = nodeIds[node_index]; G.add_node(nodeId); temp_dict[u[0]] = nodeId; node_index += 1\n",
    "    else:\n",
    "        nodeId = temp_dict[u[0]]\n",
    "    \n",
    "    if u[1] not in temp_dict.keys():\n",
    "        nodeId2 = nodeIds[node_index]; G.add_node(nodeId2); temp_dict[u[1]] = nodeId2; node_index += 1\n",
    "    else:\n",
    "        nodeId2 = temp_dict[u[1]]\n",
    "\n",
    "    G.nodes[nodeId]['lng'] = Gp.nodes[u[0]]['x']\n",
    "    G.nodes[nodeId]['lat'] = Gp.nodes[u[0]]['y']\n",
    "    G.nodes[nodeId2]['lng'] = Gp.nodes[u[1]]['x']\n",
    "    G.nodes[nodeId2]['lat'] = Gp.nodes[u[1]]['y']\n",
    "\n",
    "    if 'geometry' in v.keys():\n",
    "        prev_node = nodeId\n",
    "        for i in v['geometry'].wkt[12:-1].split(','):\n",
    "            temp_ = i.split()\n",
    "            \n",
    "            nodeId3 = nodeIds[node_index]; node_index += 1\n",
    "            G.add_node(nodeId3)\n",
    "            \n",
    "            G.nodes[nodeId3]['lng'] = float(temp_[0])\n",
    "            G.nodes[nodeId3]['lat'] = float(temp_[1])\n",
    "            \n",
    "            G.add_edge(prev_node, nodeId3, dist=haversine((G.nodes[prev_node]['lat'], G.nodes[prev_node]['lng']), (G.nodes[nodeId3]['lat'], G.nodes[nodeId3]['lng'])), oneway=v['oneway'])\n",
    "            prev_node = nodeId3\n",
    "        G.add_edge(prev_node, nodeId2, dist=0.0, oneway=v['oneway'])\n",
    "    else:\n",
    "        G.add_edge(nodeId, nodeId2, dist=v['length'], oneway=v['oneway'])\n",
    "\n",
    "print(c == len(G.nodes))"
   ]
  },
  {
   "cell_type": "code",
   "execution_count": 6,
   "id": "fdef3be8",
   "metadata": {},
   "outputs": [],
   "source": [
    "with open('data.bin', 'rb') as f:\n",
    "    nodeIds = pickle.load(f)"
   ]
  },
  {
   "cell_type": "code",
   "execution_count": 26,
   "id": "3b710a17",
   "metadata": {},
   "outputs": [],
   "source": [
    "with open('graph.bin', 'wb') as f:\n",
    "    pickle.dump(G, f)"
   ]
  },
  {
   "cell_type": "code",
   "execution_count": 7,
   "id": "54e21862",
   "metadata": {},
   "outputs": [
    {
     "data": {
      "text/plain": [
       "622334"
      ]
     },
     "execution_count": 7,
     "metadata": {},
     "output_type": "execute_result"
    }
   ],
   "source": [
    "len(nodeIds)"
   ]
  },
  {
   "cell_type": "code",
   "execution_count": 27,
   "id": "6a0072b0",
   "metadata": {},
   "outputs": [
    {
     "name": "stdout",
     "output_type": "stream",
     "text": [
      "b3ce6f1a\n",
      "{'lng': 77.6051769, 'lat': 13.0648177}\n"
     ]
    }
   ],
   "source": [
    "x = random.choice(tuple(G.nodes))\n",
    "print(x)\n",
    "print(G.nodes[x])"
   ]
  },
  {
   "cell_type": "code",
   "execution_count": 28,
   "id": "3dde092f",
   "metadata": {},
   "outputs": [
    {
     "name": "stdout",
     "output_type": "stream",
     "text": [
      "{'lng': 77.5932403, 'lat': 13.0548002} {'lng': 77.593201, 'lat': 13.0560498}\n",
      "{'dist': 139.01437628867285, 'oneway': True}\n"
     ]
    }
   ],
   "source": [
    "x, y = random.choice(tuple(G.edges.items()))\n",
    "print(G.nodes[x[0]], G.nodes[x[1]])\n",
    "print(y)"
   ]
  },
  {
   "cell_type": "code",
   "execution_count": 37,
   "id": "6f0413d6",
   "metadata": {},
   "outputs": [
    {
     "name": "stdout",
     "output_type": "stream",
     "text": [
      "['77.6011464', '12.9424727']\n",
      "['77.6010761', '12.9420206']\n",
      "['77.6009384', '12.9420464']\n"
     ]
    }
   ],
   "source": [
    "for i in y['geometry'].wkt[12:-1].split(','):\n",
    "    print(i.split())"
   ]
  },
  {
   "cell_type": "code",
   "execution_count": 34,
   "id": "e8ec67ac",
   "metadata": {},
   "outputs": [
    {
     "ename": "ValueError",
     "evalue": "too many values to unpack (expected 2)",
     "output_type": "error",
     "traceback": [
      "\u001b[1;31m---------------------------------------------------------------------------\u001b[0m",
      "\u001b[1;31mValueError\u001b[0m                                Traceback (most recent call last)",
      "Cell \u001b[1;32mIn[34], line 1\u001b[0m\n\u001b[1;32m----> 1\u001b[0m [(\u001b[39mfloat\u001b[39m(x), \u001b[39mfloat\u001b[39m(y)) \u001b[39mfor\u001b[39;00m x, y \u001b[39min\u001b[39;00m [pair\u001b[39m.\u001b[39msplit(\u001b[39m\"\u001b[39m\u001b[39m \u001b[39m\u001b[39m\"\u001b[39m) \u001b[39mfor\u001b[39;00m pair \u001b[39min\u001b[39;00m y[\u001b[39m'\u001b[39m\u001b[39mgeometry\u001b[39m\u001b[39m'\u001b[39m]\u001b[39m.\u001b[39mwkt[\u001b[39m12\u001b[39m:\u001b[39m-\u001b[39m\u001b[39m1\u001b[39m]\u001b[39m.\u001b[39msplit(\u001b[39m\"\u001b[39m\u001b[39m,\u001b[39m\u001b[39m\"\u001b[39m)]]\n",
      "Cell \u001b[1;32mIn[34], line 1\u001b[0m, in \u001b[0;36m<listcomp>\u001b[1;34m(.0)\u001b[0m\n\u001b[1;32m----> 1\u001b[0m [(\u001b[39mfloat\u001b[39m(x), \u001b[39mfloat\u001b[39m(y)) \u001b[39mfor\u001b[39;00m x, y \u001b[39min\u001b[39;00m [pair\u001b[39m.\u001b[39msplit(\u001b[39m\"\u001b[39m\u001b[39m \u001b[39m\u001b[39m\"\u001b[39m) \u001b[39mfor\u001b[39;00m pair \u001b[39min\u001b[39;00m y[\u001b[39m'\u001b[39m\u001b[39mgeometry\u001b[39m\u001b[39m'\u001b[39m]\u001b[39m.\u001b[39mwkt[\u001b[39m12\u001b[39m:\u001b[39m-\u001b[39m\u001b[39m1\u001b[39m]\u001b[39m.\u001b[39msplit(\u001b[39m\"\u001b[39m\u001b[39m,\u001b[39m\u001b[39m\"\u001b[39m)]]\n",
      "\u001b[1;31mValueError\u001b[0m: too many values to unpack (expected 2)"
     ]
    }
   ],
   "source": [
    "[(float(x), float(y)) for x, y in [pair.split(\" \") for pair in y['geometry'].wkt[12:-1].split(\",\")]]"
   ]
  },
  {
   "cell_type": "code",
   "execution_count": null,
   "id": "d89fff86",
   "metadata": {},
   "outputs": [
    {
     "ename": "ValueError",
     "evalue": "too many values to unpack (expected 2)",
     "output_type": "error",
     "traceback": [
      "\u001b[1;31m---------------------------------------------------------------------------\u001b[0m",
      "\u001b[1;31mValueError\u001b[0m                                Traceback (most recent call last)",
      "\u001b[1;32md:\\College\\Projects\\routing-serv\\DigraphConv.ipynb Cell 5\u001b[0m in \u001b[0;36m2\n\u001b[0;32m      <a href='vscode-notebook-cell:/d%3A/College/Projects/routing-serv/DigraphConv.ipynb#X22sZmlsZQ%3D%3D?line=0'>1</a>\u001b[0m c \u001b[39m=\u001b[39m \u001b[39m0\u001b[39m; f \u001b[39m=\u001b[39m \u001b[39mopen\u001b[39m(\u001b[39m'\u001b[39m\u001b[39mGp.csv\u001b[39m\u001b[39m'\u001b[39m, \u001b[39m'\u001b[39m\u001b[39mw\u001b[39m\u001b[39m'\u001b[39m)\n\u001b[1;32m----> <a href='vscode-notebook-cell:/d%3A/College/Projects/routing-serv/DigraphConv.ipynb#X22sZmlsZQ%3D%3D?line=1'>2</a>\u001b[0m \u001b[39mfor\u001b[39;00m u,v \u001b[39min\u001b[39;00m Gp\u001b[39m.\u001b[39medges:\n\u001b[0;32m      <a href='vscode-notebook-cell:/d%3A/College/Projects/routing-serv/DigraphConv.ipynb#X22sZmlsZQ%3D%3D?line=2'>3</a>\u001b[0m     lat1 \u001b[39m=\u001b[39m Gp\u001b[39m.\u001b[39mnodes[u]\u001b[39m.\u001b[39mget(\u001b[39m'\u001b[39m\u001b[39my\u001b[39m\u001b[39m'\u001b[39m)\n\u001b[0;32m      <a href='vscode-notebook-cell:/d%3A/College/Projects/routing-serv/DigraphConv.ipynb#X22sZmlsZQ%3D%3D?line=3'>4</a>\u001b[0m     lon1 \u001b[39m=\u001b[39m Gp\u001b[39m.\u001b[39mnodes[u]\u001b[39m.\u001b[39mget(\u001b[39m'\u001b[39m\u001b[39mx\u001b[39m\u001b[39m'\u001b[39m)\n",
      "\u001b[1;31mValueError\u001b[0m: too many values to unpack (expected 2)"
     ]
    }
   ],
   "source": [
    "c = 0;\n",
    "for u,v in Gp.edges:\n",
    "    lat1 = Gp.nodes[u].get('y')\n",
    "    lon1 = Gp.nodes[u].get('x')\n",
    "    lat2 = Gp.nodes[v].get('y')\n",
    "    lon2 = Gp.nodes[v].get('x')\n",
    "    \n",
    "    f.write(str(lat1) + ',' + str(lon1) + ',' + str(lat2) + ',' + str(lon2) + ',' + str(G[u][v]['weight']) + '\\n')\n",
    "\n",
    "f.close()"
   ]
  },
  {
   "cell_type": "code",
   "execution_count": null,
   "id": "e18204d9",
   "metadata": {},
   "outputs": [],
   "source": [
    "L = list(G.edges(data=True))[5:10]\n",
    "f = open('fileS1.txt', 'w')\n",
    "for t in L :\n",
    "    line = ' '.join(str(x) for x in t)\n",
    "    f.write(line + '\\n')\n",
    "f.close()\n",
    "\n",
    "\n",
    "file1 = open('fileS1.txt', 'r')\n",
    "print(file1.read())\n",
    "file1.close()"
   ]
  },
  {
   "cell_type": "code",
   "execution_count": null,
   "id": "921ee2a1",
   "metadata": {},
   "outputs": [
    {
     "name": "stdout",
     "output_type": "stream",
     "text": [
      "404360\n"
     ]
    }
   ],
   "source": [
    "\n",
    "print(len(Gp.edges))"
   ]
  },
  {
   "cell_type": "code",
   "execution_count": null,
   "id": "b72125fb",
   "metadata": {},
   "outputs": [
    {
     "ename": "TypeError",
     "evalue": "cannot unpack non-iterable int object",
     "output_type": "error",
     "traceback": [
      "\u001b[1;31m---------------------------------------------------------------------------\u001b[0m",
      "\u001b[1;31mTypeError\u001b[0m                                 Traceback (most recent call last)",
      "\u001b[1;32md:\\College\\Projects\\routing-serv\\DigraphConv.ipynb Cell 8\u001b[0m in \u001b[0;36m1\n\u001b[1;32m----> <a href='vscode-notebook-cell:/d%3A/College/Projects/routing-serv/DigraphConv.ipynb#X25sZmlsZQ%3D%3D?line=0'>1</a>\u001b[0m u,v,w \u001b[39m=\u001b[39m Gp\u001b[39m.\u001b[39medges[\u001b[39m0\u001b[39m]\n\u001b[0;32m      <a href='vscode-notebook-cell:/d%3A/College/Projects/routing-serv/DigraphConv.ipynb#X25sZmlsZQ%3D%3D?line=1'>2</a>\u001b[0m \u001b[39mprint\u001b[39m(u,v,w)\n",
      "File \u001b[1;32m~\\AppData\\Roaming\\Python\\Python310\\site-packages\\networkx\\classes\\reportviews.py:1361\u001b[0m, in \u001b[0;36mOutMultiEdgeView.__getitem__\u001b[1;34m(self, e)\u001b[0m\n\u001b[0;32m   1356\u001b[0m \u001b[39mif\u001b[39;00m \u001b[39misinstance\u001b[39m(e, \u001b[39mslice\u001b[39m):\n\u001b[0;32m   1357\u001b[0m     \u001b[39mraise\u001b[39;00m nx\u001b[39m.\u001b[39mNetworkXError(\n\u001b[0;32m   1358\u001b[0m         \u001b[39mf\u001b[39m\u001b[39m\"\u001b[39m\u001b[39m{\u001b[39;00m\u001b[39mtype\u001b[39m(\u001b[39mself\u001b[39m)\u001b[39m.\u001b[39m\u001b[39m__name__\u001b[39m\u001b[39m}\u001b[39;00m\u001b[39m does not support slicing, \u001b[39m\u001b[39m\"\u001b[39m\n\u001b[0;32m   1359\u001b[0m         \u001b[39mf\u001b[39m\u001b[39m\"\u001b[39m\u001b[39mtry list(G.edges)[\u001b[39m\u001b[39m{\u001b[39;00me\u001b[39m.\u001b[39mstart\u001b[39m}\u001b[39;00m\u001b[39m:\u001b[39m\u001b[39m{\u001b[39;00me\u001b[39m.\u001b[39mstop\u001b[39m}\u001b[39;00m\u001b[39m:\u001b[39m\u001b[39m{\u001b[39;00me\u001b[39m.\u001b[39mstep\u001b[39m}\u001b[39;00m\u001b[39m]\u001b[39m\u001b[39m\"\u001b[39m\n\u001b[0;32m   1360\u001b[0m     )\n\u001b[1;32m-> 1361\u001b[0m u, v, k \u001b[39m=\u001b[39m e\n\u001b[0;32m   1362\u001b[0m \u001b[39mreturn\u001b[39;00m \u001b[39mself\u001b[39m\u001b[39m.\u001b[39m_adjdict[u][v][k]\n",
      "\u001b[1;31mTypeError\u001b[0m: cannot unpack non-iterable int object"
     ]
    }
   ],
   "source": [
    "u,v,w = Gp.edges[0]\n",
    "print(u,v,w)"
   ]
  },
  {
   "cell_type": "code",
   "execution_count": null,
   "id": "da77bf5b",
   "metadata": {},
   "outputs": [],
   "source": []
  }
 ],
 "metadata": {
  "kernelspec": {
   "display_name": "Python 3 (ipykernel)",
   "language": "python",
   "name": "python3"
  },
  "language_info": {
   "codemirror_mode": {
    "name": "ipython",
    "version": 3
   },
   "file_extension": ".py",
   "mimetype": "text/x-python",
   "name": "python",
   "nbconvert_exporter": "python",
   "pygments_lexer": "ipython3",
   "version": "3.10.7"
  },
  "vscode": {
   "interpreter": {
    "hash": "f5ff168696553f3e2cb115c273c46eeb315c32b0d0536992c4bad2740a7f9469"
   }
  }
 },
 "nbformat": 4,
 "nbformat_minor": 5
}
