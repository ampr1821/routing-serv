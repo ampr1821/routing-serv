{
 "cells": [
  {
   "cell_type": "code",
   "execution_count": 74,
   "metadata": {
    "id": "yesZCA0cNMor"
   },
   "outputs": [],
   "source": [
    "import numpy as np\n",
    "import pandas as pd\n",
    "df=pd.read_csv(\"Book1.csv\")\n",
    "class Node1:\n",
    "    def __init__(self, start_lat,start_lon):\n",
    "        self.df = pd.read_csv(\"Book1.csv\")\n",
    "        self.start_lat = start_lat\n",
    "        self.start_lon = start_lon\n",
    "        # self.values = self.df[[start_lat, start_lon]].values\n",
    "        # self.matrix = np.array(self.values)\n",
    "\n",
    "\n",
    "class Node2:\n",
    "    def __init__(self, dest_lat, dest_lon):\n",
    "        self.df = pd.read_csv(\"Book1.csv\")\n",
    "        self.dest_lat= dest_lat\n",
    "        self.dest_lon= dest_lon\n",
    "        # self.values = self.df[[dest_lat, dest_lon]].values\n",
    "        # self.matrix = np.array(self.values)\n",
    "      \n",
    "\n",
    "class Distance:\n",
    "    def __init__(self,distance):\n",
    "         self.df = pd.read_csv(\"Book1.csv\")\n",
    "        #  self.values =self.df[[distance]].values\n",
    "        #  self.matrix = np.array(self.values)\n",
    "        "
   ]
  },
  {
   "cell_type": "code",
   "execution_count": 75,
   "metadata": {
    "id": "wIhtqKaQNctq"
   },
   "outputs": [],
   "source": [
    "\n",
    "node1 = Node1(\"start_lat\", \"start_lon\")\n",
    "node2 = Node2(\"dest_lat\", \"dest_lon\")\n",
    "distance = Distance(\"distance\")"
   ]
  },
  {
   "cell_type": "markdown",
   "metadata": {
    "id": "_At9eGG9WpJq"
   },
   "source": []
  },
  {
   "cell_type": "code",
   "execution_count": 76,
   "metadata": {
    "id": "Wd5a_jAQNfWH"
   },
   "outputs": [],
   "source": [
    "node1_vals = [node1.start_lat,node1.start_lon]\n",
    "node2_vals = [node2.dest_lat,node2.dest_lon]\n",
    "distance_val = [distance.distance]"
   ]
  },
  {
   "cell_type": "code",
   "execution_count": 107,
   "metadata": {
    "colab": {
     "base_uri": "https://localhost:8080/"
    },
    "id": "XP_UQt_WlX3k",
    "outputId": "4d451fe3-58c1-4295-b540-ff1ea9abcb7a"
   },
   "outputs": [
    {
     "name": "stdout",
     "output_type": "stream",
     "text": [
      "['start_lat', 'start_lon']\n",
      "['dest_lat', 'dest_lon']\n",
      "<__main__.Distance object at 0x7fcc5425d3a0>\n"
     ]
    }
   ],
   "source": [
    "\n",
    "matrix = [node1_vals, node2_vals, distance]\n",
    "\n",
    "for row in matrix:\n",
    "    print(row)\n"
   ]
  },
  {
   "cell_type": "code",
   "execution_count": null,
   "metadata": {
    "id": "nm-dbbUMauJA"
   },
   "outputs": [],
   "source": []
  }
 ],
 "metadata": {
  "colab": {
   "provenance": []
  },
  "kernelspec": {
   "display_name": "Python 3 (ipykernel)",
   "language": "python",
   "name": "python3"
  },
  "language_info": {
   "codemirror_mode": {
    "name": "ipython",
    "version": 3
   },
   "file_extension": ".py",
   "mimetype": "text/x-python",
   "name": "python",
   "nbconvert_exporter": "python",
   "pygments_lexer": "ipython3",
   "version": "3.10.1"
  }
 },
 "nbformat": 4,
 "nbformat_minor": 1
}
