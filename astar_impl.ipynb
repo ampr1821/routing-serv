{
 "cells": [
  {
   "cell_type": "code",
   "execution_count": 9,
   "metadata": {},
   "outputs": [],
   "source": [
    "import heapq\n",
    "import osmnx as ox\n",
    "import math\n",
    "import pickle"
   ]
  },
  {
   "cell_type": "code",
   "execution_count": 10,
   "metadata": {},
   "outputs": [
    {
     "name": "stdout",
     "output_type": "stream",
     "text": [
      "Graph found, loading from disk\n"
     ]
    }
   ],
   "source": [
    "f = open('blr.bin', 'rb')\n",
    "print('Graph found, loading from disk')\n",
    "G = pickle.load(f)\n",
    "f.close()"
   ]
  },
  {
   "cell_type": "code",
   "execution_count": 25,
   "metadata": {},
   "outputs": [],
   "source": [
    "class a_star:\n",
    "    def __init__(self, graph):\n",
    "        self.graph = graph\n",
    "\n",
    "    def get_route(self, pair1, pair2):\n",
    "        self.start_node = ox.distance.nearest_nodes(G, pair1[1], pair1[0])\n",
    "        self.goal_node = ox.distance.nearest_nodes(G, pair2[1], pair2[0])\n",
    "\n",
    "    def calculate_route(self):\n",
    "        # Create a priority queue and add the start node with a cost of 0\n",
    "        pq = [(0, self.start_node)]\n",
    "        # Create a dictionary to keep track of the cost to reach each node\n",
    "        cost_so_far = {self.start_node: 0}\n",
    "        # Create a dictionary to keep track of the parent of each node\n",
    "        parent = {self.start_node: None}\n",
    "        \n",
    "        while pq:\n",
    "            # Pop the node with the lowest cost from the priority queue\n",
    "            _, current_node = heapq.heappop(pq)\n",
    "            \n",
    "            # If we have reached the goal, reconstruct the path and return it\n",
    "            if current_node == self.goal_node:\n",
    "                path = []\n",
    "                while current_node:\n",
    "                    path.append(current_node)\n",
    "                    current_node = parent[current_node]\n",
    "                return path[::-1]\n",
    "            \n",
    "            # Otherwise, expand the current node's neighbors and add them to the priority queue\n",
    "            for neighbor_node in self.neighbors(current_node):\n",
    "                # Calculate the cost to reach the neighbor node\n",
    "                new_cost = cost_so_far[current_node] + 1\n",
    "                # If we haven't visited this neighbor node yet or the new cost is lower than the old cost, update the cost and parent\n",
    "                if neighbor_node not in cost_so_far or new_cost < cost_so_far[neighbor_node]:\n",
    "                    cost_so_far[neighbor_node] = new_cost\n",
    "                    priority = new_cost + self.heuristic_cost_estimate(neighbor_node, self.goal_node)\n",
    "                    heapq.heappush(pq, (priority, neighbor_node))\n",
    "                    parent[neighbor_node] = current_node\n",
    "        \n",
    "        # If we get here, there is no path from the start node to the goal node\n",
    "        return None\n",
    "    def haversine(self, pair1, pair2):\n",
    "        \"\"\"\n",
    "        Calculate the great circle distance between two points\n",
    "        on the earth (specified in decimal degrees)\n",
    "        \"\"\"\n",
    "        # convert decimal degrees to radians\n",
    "        lon1, lat1, lon2, lat2 = map(math.radians, [pair1[1], pair1[0], pair2[1], pair2[0]])\n",
    "\n",
    "        # haversine formula\n",
    "        dlon = lon2 - lon1\n",
    "        dlat = lat2 - lat1\n",
    "        a = math.sin(dlat/2)**2 + math.cos(lat1) * math.cos(lat2) * math.sin(dlon/2)**2\n",
    "        c = 2 * math.asin(math.sqrt(a))\n",
    "        r = 6371 # Radius of earth in kilometers. Use 3956 for miles\n",
    "        return c * r\n",
    "    \n",
    "    def heuristic_cost_estimate(self, n1, n2) -> float:\n",
    "        if isinstance(n1, int):\n",
    "            n1 = self.graph.nodes[n1]['x'], self.graph.nodes[n1]['y']\n",
    "        if isinstance(n2, int):\n",
    "            n2 = self.graph.nodes[n2]['x'], self.graph.nodes[n2]['y']\n",
    "        x1, y1 = n1\n",
    "        x2, y2 = n2\n",
    "        return self.haversine((y1, x1), (y2, x2))\n",
    "\n",
    "    def neighbors(self, node):\n",
    "        return list(self.graph.neighbors(node))"
   ]
  },
  {
   "cell_type": "code",
   "execution_count": 13,
   "metadata": {},
   "outputs": [],
   "source": [
    "source_coord = (12.909229431138986, 77.63947874679494)\n",
    "dest_coord = (12.914080814688852, 77.64155496935096)"
   ]
  },
  {
   "cell_type": "code",
   "execution_count": 14,
   "metadata": {},
   "outputs": [],
   "source": [
    "start_node = ox.distance.nearest_nodes(G, source_coord[1], source_coord[0])\n",
    "goal_node = ox.distance.nearest_nodes(G, dest_coord[1], dest_coord[0])"
   ]
  },
  {
   "cell_type": "code",
   "execution_count": 27,
   "metadata": {},
   "outputs": [],
   "source": [
    "routingObj = a_star(G)\n",
    "path = routingObj.get_route(start_node, goal_node)"
   ]
  },
  {
   "cell_type": "code",
   "execution_count": 28,
   "metadata": {},
   "outputs": [
    {
     "name": "stdout",
     "output_type": "stream",
     "text": [
      "[12.9092598, 77.6395172]\n",
      "[12.9092659, 77.6391683]\n",
      "[12.9092789, 77.6384189]\n",
      "[12.9092848, 77.6380325]\n",
      "[12.9097988, 77.638043]\n",
      "[12.9097451, 77.6416337]\n",
      "[12.9104182, 77.6416628]\n",
      "[12.9114151, 77.6417058]\n",
      "[12.9119965, 77.6417201]\n",
      "[12.9122085, 77.6417126]\n",
      "[12.9121971, 77.64204]\n",
      "[12.912791, 77.6420643]\n",
      "[12.9127933, 77.6414959]\n",
      "[12.9140982, 77.6415886]\n"
     ]
    }
   ],
   "source": [
    "for i in path:\n",
    "    lon = G._node[i]['x'] #lon\n",
    "    lat = G._node[i]['y'] #lat\n",
    "    print([lat, lon])"
   ]
  }
 ],
 "metadata": {
  "kernelspec": {
   "display_name": "venv",
   "language": "python",
   "name": "python3"
  },
  "language_info": {
   "codemirror_mode": {
    "name": "ipython",
    "version": 3
   },
   "file_extension": ".py",
   "mimetype": "text/x-python",
   "name": "python",
   "nbconvert_exporter": "python",
   "pygments_lexer": "ipython3",
   "version": "3.10.7"
  },
  "orig_nbformat": 4
 },
 "nbformat": 4,
 "nbformat_minor": 2
}
