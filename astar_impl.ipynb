{
 "cells": [
  {
   "cell_type": "code",
   "execution_count": 1,
   "metadata": {},
   "outputs": [],
   "source": [
    "import heapq\n",
    "import osmnx as ox\n",
    "import math\n",
    "import pickle\n",
    "import requests\n",
    "from scipy.optimize import fmin_l_bfgs_b"
   ]
  },
  {
   "cell_type": "code",
   "execution_count": 2,
   "metadata": {},
   "outputs": [
    {
     "name": "stdout",
     "output_type": "stream",
     "text": [
      "Graph found, loading from disk\n"
     ]
    }
   ],
   "source": [
    "f = open('blr.bin', 'rb')\n",
    "print('Graph found, loading from disk')\n",
    "G = pickle.load(f)\n",
    "f.close()"
   ]
  },
  {
   "cell_type": "code",
   "execution_count": 3,
   "metadata": {},
   "outputs": [],
   "source": [
    "class a_star:\n",
    "    def __init__(self, graph):\n",
    "        self.graph = graph\n",
    "\n",
    "    def get_route(self, pair1, pair2):\n",
    "        self.start_node = ox.distance.nearest_nodes(self.graph, pair1[1], pair1[0])\n",
    "        self.goal_node = ox.distance.nearest_nodes(self.graph, pair2[1], pair2[0])\n",
    "        \n",
    "        return self.__calculate_route()\n",
    "\n",
    "    def __calculate_route(self):\n",
    "        # Create a priority queue and add the start node with a cost of 0\n",
    "        pq = [(0, self.start_node)]\n",
    "        # Create a dictionary to keep track of the cost to reach each node\n",
    "        cost_so_far = {self.start_node: 0}\n",
    "        # Create a dictionary to keep track of the parent of each node\n",
    "        parent = {self.start_node: None}\n",
    "        \n",
    "        while pq:\n",
    "            # Pop the node with the lowest cost from the priority queue\n",
    "            _, current_node = heapq.heappop(pq)\n",
    "            \n",
    "            # If we have reached the goal, reconstruct the path and return it\n",
    "            if current_node == self.goal_node:\n",
    "                path = []\n",
    "                while current_node:\n",
    "                    path.append(current_node)\n",
    "                    current_node = parent[current_node]\n",
    "                return path[::-1]\n",
    "            \n",
    "            # Otherwise, expand the current node's neighbors and add them to the priority queue\n",
    "            for neighbor_node in self.__neighbors(current_node):\n",
    "                # Calculate the cost to reach the neighbor node\n",
    "                new_cost = cost_so_far[current_node] + 1\n",
    "                # If we haven't visited this neighbor node yet or the new cost is lower than the old cost, update the cost and parent\n",
    "                if neighbor_node not in cost_so_far or new_cost < cost_so_far[neighbor_node]:\n",
    "                    cost_so_far[neighbor_node] = new_cost\n",
    "                    priority = new_cost + self.__heuristic_cost_estimate(neighbor_node, self.goal_node)\n",
    "                    heapq.heappush(pq, (priority, neighbor_node))\n",
    "                    parent[neighbor_node] = current_node\n",
    "        \n",
    "        # If we get here, there is no path from the start node to the goal node\n",
    "        return None\n",
    "    def __haversine(self, pair1, pair2):\n",
    "        \"\"\"\n",
    "        Calculate the great circle distance between two points\n",
    "        on the earth (specified in decimal degrees)\n",
    "        \"\"\"\n",
    "        # convert decimal degrees to radians\n",
    "        lon1, lat1, lon2, lat2 = map(math.radians, [pair1[1], pair1[0], pair2[1], pair2[0]])\n",
    "\n",
    "        # haversine formula\n",
    "        dlon = lon2 - lon1\n",
    "        dlat = lat2 - lat1\n",
    "        a = math.sin(dlat/2)**2 + math.cos(lat1) * math.cos(lat2) * math.sin(dlon/2)**2\n",
    "        c = 2 * math.asin(math.sqrt(a))\n",
    "        r = 6371 # Radius of earth in kilometers. Use 3956 for miles\n",
    "        return c * r\n",
    "    \n",
    "    def __heuristic_cost_estimate(self, n1, n2) -> float:\n",
    "        if isinstance(n1, int):\n",
    "            n1 = self.graph.nodes[n1]['x'], self.graph.nodes[n1]['y']\n",
    "        if isinstance(n2, int):\n",
    "            n2 = self.graph.nodes[n2]['x'], self.graph.nodes[n2]['y']\n",
    "        x1, y1 = n1\n",
    "        x2, y2 = n2\n",
    "        return self.__haversine((y1, x1), (y2, x2))\n",
    "\n",
    "    def __neighbors(self, node):\n",
    "        return list(self.graph.neighbors(node))"
   ]
  },
  {
   "cell_type": "code",
   "execution_count": 4,
   "metadata": {},
   "outputs": [],
   "source": [
    "source_coord = (12.92451735558134, 77.55801655636051)\n",
    "dest_coord = (12.925299455248208, 77.56025666518755)"
   ]
  },
  {
   "cell_type": "code",
   "execution_count": 5,
   "metadata": {},
   "outputs": [],
   "source": [
    "start_node = ox.distance.nearest_nodes(G, source_coord[1], source_coord[0])\n",
    "goal_node = ox.distance.nearest_nodes(G, dest_coord[1], dest_coord[0])"
   ]
  },
  {
   "cell_type": "code",
   "execution_count": 6,
   "metadata": {},
   "outputs": [],
   "source": [
    "routingObj = a_star(G)\n",
    "path = routingObj.get_route(source_coord, dest_coord)"
   ]
  },
  {
   "cell_type": "code",
   "execution_count": 3,
   "metadata": {},
   "outputs": [
    {
     "name": "stdout",
     "output_type": "stream",
     "text": [
      "6757027803\n"
     ]
    }
   ],
   "source": [
    "some_node = ox.distance.nearest_nodes(G, 77.640749, 12.889517)\n",
    "print(some_node)"
   ]
  },
  {
   "cell_type": "code",
   "execution_count": 6,
   "metadata": {},
   "outputs": [
    {
     "name": "stdout",
     "output_type": "stream",
     "text": [
      "12.8893212 77.6402633\n"
     ]
    }
   ],
   "source": [
    "print(G.nodes[some_node]['y'], G.nodes[some_node]['x'])"
   ]
  },
  {
   "cell_type": "code",
   "execution_count": 14,
   "metadata": {},
   "outputs": [
    {
     "name": "stdout",
     "output_type": "stream",
     "text": [
      "Source: 248810128\n",
      "Dest: 1466350486\n",
      "Distance: 44.955\n"
     ]
    }
   ],
   "source": [
    "u, v = tuple(G.edges.items())[966]\n",
    "print('Source:', u[0])\n",
    "print('Dest:', u[1])\n",
    "print('Distance:', v['length'])"
   ]
  },
  {
   "cell_type": "code",
   "execution_count": 16,
   "metadata": {},
   "outputs": [
    {
     "data": {
      "text/plain": [
       "44.955"
      ]
     },
     "execution_count": 16,
     "metadata": {},
     "output_type": "execute_result"
    }
   ],
   "source": [
    "G.get_edge_data(248810128, 1466350486)[0]['length']"
   ]
  },
  {
   "cell_type": "code",
   "execution_count": 50,
   "metadata": {},
   "outputs": [],
   "source": [
    "# Define the cost function\n",
    "def cost_function(path, G):\n",
    "    # Calculate the cost of the path\n",
    "    # (e.g., based on path length, terrain, obstacles, etc.)\n",
    "    cost = 0\n",
    "    for i in range(len(path)-1):\n",
    "        source = round(path[i])\n",
    "        target = round(path[i+1])\n",
    "        print(source, target)\n",
    "        source = node_id_to_num[source]\n",
    "        target = node_id_to_num[target]\n",
    "        edge_data = G.get_edge_data(source, target)\n",
    "        if edge_data:\n",
    "            edge_cost = edge_data[0]['length']\n",
    "        else:\n",
    "            edge_cost = 191919191.0\n",
    "        cost += edge_cost\n",
    "    return cost"
   ]
  },
  {
   "cell_type": "code",
   "execution_count": 36,
   "metadata": {},
   "outputs": [],
   "source": [
    "node_id_to_num = {i: node_id for i, node_id in enumerate(G.nodes)}"
   ]
  },
  {
   "cell_type": "code",
   "execution_count": 39,
   "metadata": {},
   "outputs": [],
   "source": [
    "len(node_id_to_num)\n",
    "for i in node_id_to_num.keys():\n",
    "    if type(i) == type(1.0):\n",
    "        print('aha')"
   ]
  },
  {
   "cell_type": "code",
   "execution_count": 28,
   "metadata": {},
   "outputs": [],
   "source": [
    "G.get_edge_data(10784153212,10784153212)"
   ]
  },
  {
   "cell_type": "code",
   "execution_count": 24,
   "metadata": {},
   "outputs": [
    {
     "data": {
      "text/plain": [
       "[(0, 154309),\n",
       " (0, 154309),\n",
       " (0, 154309),\n",
       " (0, 154309),\n",
       " (0, 154309),\n",
       " (0, 154309),\n",
       " (0, 154309),\n",
       " (0, 154309)]"
      ]
     },
     "execution_count": 24,
     "metadata": {},
     "output_type": "execute_result"
    }
   ],
   "source": [
    "[(0, G.number_of_nodes()-1)]*len(path)"
   ]
  },
  {
   "cell_type": "code",
   "execution_count": 51,
   "metadata": {},
   "outputs": [
    {
     "name": "stdout",
     "output_type": "stream",
     "text": [
      "4 4\n",
      "4 4\n",
      "4 4\n",
      "4 4\n",
      "4 4\n",
      "4 4\n",
      "4 4\n",
      "4 4\n",
      "4 4\n",
      "4 4\n",
      "4 4\n",
      "4 4\n",
      "4 4\n",
      "4 4\n",
      "4 4\n",
      "4 4\n",
      "4 4\n",
      "4 4\n",
      "4 4\n",
      "4 4\n",
      "4 4\n",
      "4 4\n",
      "4 4\n",
      "4 4\n",
      "4 4\n",
      "4 4\n",
      "4 4\n",
      "4 4\n",
      "4 4\n",
      "4 4\n",
      "4 4\n",
      "4 4\n",
      "4 4\n",
      "4 4\n",
      "4 4\n",
      "4 4\n",
      "4 4\n",
      "4 4\n",
      "4 4\n",
      "4 4\n",
      "4 4\n",
      "4 4\n",
      "4 4\n",
      "4 4\n",
      "4 4\n",
      "4 4\n",
      "4 4\n",
      "4 4\n",
      "4 4\n",
      "4 4\n",
      "4 4\n",
      "4 4\n",
      "4 4\n",
      "4 4\n",
      "4 4\n",
      "4 4\n",
      "4 4\n",
      "4 4\n",
      "4 4\n",
      "4 4\n",
      "4 4\n",
      "4 4\n",
      "4 4\n"
     ]
    }
   ],
   "source": [
    "result = fmin_l_bfgs_b(lambda x: cost_function(x, G), path, bounds=[(0, G.number_of_nodes()-1)]*len(path), approx_grad=True)"
   ]
  },
  {
   "cell_type": "code",
   "execution_count": 52,
   "metadata": {},
   "outputs": [
    {
     "name": "stdout",
     "output_type": "stream",
     "text": [
      "[4. 4. 4. 4. 4. 4. 4. 4.]\n"
     ]
    }
   ],
   "source": [
    "print(result[0])"
   ]
  },
  {
   "cell_type": "code",
   "execution_count": null,
   "metadata": {},
   "outputs": [],
   "source": [
    "fig, ax = ox.plot_graph_route(G, path, route_color='r', node_size = 0)"
   ]
  },
  {
   "cell_type": "code",
   "execution_count": 38,
   "metadata": {},
   "outputs": [
    {
     "name": "stdout",
     "output_type": "stream",
     "text": [
      "None\n"
     ]
    }
   ],
   "source": [
    "print(path)"
   ]
  },
  {
   "cell_type": "code",
   "execution_count": 28,
   "metadata": {},
   "outputs": [
    {
     "data": {
      "text/plain": [
       "0.8421052631578947"
      ]
     },
     "execution_count": 28,
     "metadata": {},
     "output_type": "execute_result"
    }
   ],
   "source": [
    "routingObj = a_star(G)\n",
    "routingObj.get_traffic_rate(12.931050, 77.542775)"
   ]
  },
  {
   "cell_type": "code",
   "execution_count": 11,
   "metadata": {},
   "outputs": [],
   "source": [
    "def get_traffic_rate(lat, lng):\n",
    "    try:\n",
    "        traffic = requests.get('https://api.tomtom.com/traffic/services/4/flowSegmentData/relative0/10/json??', params={\"point\" : str(lat) + ',' + str(lng), \"unit\" : \"KMPH\", 'openLr' : 'false', 'jsonp' : 'json', 'key' : 'G3zOAIIsnAZvOVniGeT38kZPJuTfFNaX'}).json()\n",
    "        res = float(traffic['flowSegmentData']['currentSpeed']) / float(traffic['flowSegmentData']['freeFlowSpeed'])\n",
    "        return res\n",
    "    except:\n",
    "        return 1"
   ]
  },
  {
   "cell_type": "code",
   "execution_count": 13,
   "metadata": {},
   "outputs": [
    {
     "name": "stdout",
     "output_type": "stream",
     "text": [
      "154310\n"
     ]
    },
    {
     "ename": "JSONDecodeError",
     "evalue": "Expecting value: line 1 column 1 (char 0)",
     "output_type": "error",
     "traceback": [
      "\u001b[1;31m---------------------------------------------------------------------------\u001b[0m",
      "\u001b[1;31mJSONDecodeError\u001b[0m                           Traceback (most recent call last)",
      "File \u001b[1;32mc:\\Users\\amitu\\Documents\\Projects\\routing\\venv\\lib\\site-packages\\requests\\models.py:971\u001b[0m, in \u001b[0;36mResponse.json\u001b[1;34m(self, **kwargs)\u001b[0m\n\u001b[0;32m    970\u001b[0m \u001b[39mtry\u001b[39;00m:\n\u001b[1;32m--> 971\u001b[0m     \u001b[39mreturn\u001b[39;00m complexjson\u001b[39m.\u001b[39mloads(\u001b[39mself\u001b[39m\u001b[39m.\u001b[39mtext, \u001b[39m*\u001b[39m\u001b[39m*\u001b[39mkwargs)\n\u001b[0;32m    972\u001b[0m \u001b[39mexcept\u001b[39;00m JSONDecodeError \u001b[39mas\u001b[39;00m e:\n\u001b[0;32m    973\u001b[0m     \u001b[39m# Catch JSON-related errors and raise as requests.JSONDecodeError\u001b[39;00m\n\u001b[0;32m    974\u001b[0m     \u001b[39m# This aliases json.JSONDecodeError and simplejson.JSONDecodeError\u001b[39;00m\n",
      "File \u001b[1;32m~\\AppData\\Local\\Programs\\Python\\Python310\\lib\\json\\__init__.py:346\u001b[0m, in \u001b[0;36mloads\u001b[1;34m(s, cls, object_hook, parse_float, parse_int, parse_constant, object_pairs_hook, **kw)\u001b[0m\n\u001b[0;32m    343\u001b[0m \u001b[39mif\u001b[39;00m (\u001b[39mcls\u001b[39m \u001b[39mis\u001b[39;00m \u001b[39mNone\u001b[39;00m \u001b[39mand\u001b[39;00m object_hook \u001b[39mis\u001b[39;00m \u001b[39mNone\u001b[39;00m \u001b[39mand\u001b[39;00m\n\u001b[0;32m    344\u001b[0m         parse_int \u001b[39mis\u001b[39;00m \u001b[39mNone\u001b[39;00m \u001b[39mand\u001b[39;00m parse_float \u001b[39mis\u001b[39;00m \u001b[39mNone\u001b[39;00m \u001b[39mand\u001b[39;00m\n\u001b[0;32m    345\u001b[0m         parse_constant \u001b[39mis\u001b[39;00m \u001b[39mNone\u001b[39;00m \u001b[39mand\u001b[39;00m object_pairs_hook \u001b[39mis\u001b[39;00m \u001b[39mNone\u001b[39;00m \u001b[39mand\u001b[39;00m \u001b[39mnot\u001b[39;00m kw):\n\u001b[1;32m--> 346\u001b[0m     \u001b[39mreturn\u001b[39;00m _default_decoder\u001b[39m.\u001b[39;49mdecode(s)\n\u001b[0;32m    347\u001b[0m \u001b[39mif\u001b[39;00m \u001b[39mcls\u001b[39m \u001b[39mis\u001b[39;00m \u001b[39mNone\u001b[39;00m:\n",
      "File \u001b[1;32m~\\AppData\\Local\\Programs\\Python\\Python310\\lib\\json\\decoder.py:337\u001b[0m, in \u001b[0;36mJSONDecoder.decode\u001b[1;34m(self, s, _w)\u001b[0m\n\u001b[0;32m    333\u001b[0m \u001b[39m\u001b[39m\u001b[39m\"\"\"Return the Python representation of ``s`` (a ``str`` instance\u001b[39;00m\n\u001b[0;32m    334\u001b[0m \u001b[39mcontaining a JSON document).\u001b[39;00m\n\u001b[0;32m    335\u001b[0m \n\u001b[0;32m    336\u001b[0m \u001b[39m\"\"\"\u001b[39;00m\n\u001b[1;32m--> 337\u001b[0m obj, end \u001b[39m=\u001b[39m \u001b[39mself\u001b[39;49m\u001b[39m.\u001b[39;49mraw_decode(s, idx\u001b[39m=\u001b[39;49m_w(s, \u001b[39m0\u001b[39;49m)\u001b[39m.\u001b[39;49mend())\n\u001b[0;32m    338\u001b[0m end \u001b[39m=\u001b[39m _w(s, end)\u001b[39m.\u001b[39mend()\n",
      "File \u001b[1;32m~\\AppData\\Local\\Programs\\Python\\Python310\\lib\\json\\decoder.py:355\u001b[0m, in \u001b[0;36mJSONDecoder.raw_decode\u001b[1;34m(self, s, idx)\u001b[0m\n\u001b[0;32m    354\u001b[0m \u001b[39mexcept\u001b[39;00m \u001b[39mStopIteration\u001b[39;00m \u001b[39mas\u001b[39;00m err:\n\u001b[1;32m--> 355\u001b[0m     \u001b[39mraise\u001b[39;00m JSONDecodeError(\u001b[39m\"\u001b[39m\u001b[39mExpecting value\u001b[39m\u001b[39m\"\u001b[39m, s, err\u001b[39m.\u001b[39mvalue) \u001b[39mfrom\u001b[39;00m \u001b[39mNone\u001b[39m\n\u001b[0;32m    356\u001b[0m \u001b[39mreturn\u001b[39;00m obj, end\n",
      "\u001b[1;31mJSONDecodeError\u001b[0m: Expecting value: line 1 column 1 (char 0)",
      "\nDuring handling of the above exception, another exception occurred:\n",
      "\u001b[1;31mJSONDecodeError\u001b[0m                           Traceback (most recent call last)",
      "Cell \u001b[1;32mIn[13], line 4\u001b[0m\n\u001b[0;32m      2\u001b[0m \u001b[39mprint\u001b[39m(\u001b[39mlen\u001b[39m(G\u001b[39m.\u001b[39mnodes\u001b[39m.\u001b[39mitems()))\n\u001b[0;32m      3\u001b[0m \u001b[39mfor\u001b[39;00m k, v \u001b[39min\u001b[39;00m G\u001b[39m.\u001b[39mnodes\u001b[39m.\u001b[39mitems():\n\u001b[1;32m----> 4\u001b[0m     trafficData[k] \u001b[39m=\u001b[39m get_traffic_rate(v[\u001b[39m'\u001b[39;49m\u001b[39my\u001b[39;49m\u001b[39m'\u001b[39;49m], v[\u001b[39m'\u001b[39;49m\u001b[39mx\u001b[39;49m\u001b[39m'\u001b[39;49m])\n",
      "Cell \u001b[1;32mIn[11], line 2\u001b[0m, in \u001b[0;36mget_traffic_rate\u001b[1;34m(lat, lng)\u001b[0m\n\u001b[0;32m      1\u001b[0m \u001b[39mdef\u001b[39;00m \u001b[39mget_traffic_rate\u001b[39m(lat, lng):\n\u001b[1;32m----> 2\u001b[0m     traffic \u001b[39m=\u001b[39m requests\u001b[39m.\u001b[39;49mget(\u001b[39m'\u001b[39;49m\u001b[39mhttps://api.tomtom.com/traffic/services/4/flowSegmentData/relative0/10/json??\u001b[39;49m\u001b[39m'\u001b[39;49m, params\u001b[39m=\u001b[39;49m{\u001b[39m\"\u001b[39;49m\u001b[39mpoint\u001b[39;49m\u001b[39m\"\u001b[39;49m : \u001b[39mstr\u001b[39;49m(lat) \u001b[39m+\u001b[39;49m \u001b[39m'\u001b[39;49m\u001b[39m,\u001b[39;49m\u001b[39m'\u001b[39;49m \u001b[39m+\u001b[39;49m \u001b[39mstr\u001b[39;49m(lng), \u001b[39m\"\u001b[39;49m\u001b[39munit\u001b[39;49m\u001b[39m\"\u001b[39;49m : \u001b[39m\"\u001b[39;49m\u001b[39mKMPH\u001b[39;49m\u001b[39m\"\u001b[39;49m, \u001b[39m'\u001b[39;49m\u001b[39mopenLr\u001b[39;49m\u001b[39m'\u001b[39;49m : \u001b[39m'\u001b[39;49m\u001b[39mfalse\u001b[39;49m\u001b[39m'\u001b[39;49m, \u001b[39m'\u001b[39;49m\u001b[39mjsonp\u001b[39;49m\u001b[39m'\u001b[39;49m : \u001b[39m'\u001b[39;49m\u001b[39mjson\u001b[39;49m\u001b[39m'\u001b[39;49m, \u001b[39m'\u001b[39;49m\u001b[39mkey\u001b[39;49m\u001b[39m'\u001b[39;49m : \u001b[39m'\u001b[39;49m\u001b[39mG3zOAIIsnAZvOVniGeT38kZPJuTfFNaX\u001b[39;49m\u001b[39m'\u001b[39;49m})\u001b[39m.\u001b[39;49mjson()\n\u001b[0;32m      3\u001b[0m     res \u001b[39m=\u001b[39m \u001b[39mfloat\u001b[39m(traffic[\u001b[39m'\u001b[39m\u001b[39mflowSegmentData\u001b[39m\u001b[39m'\u001b[39m][\u001b[39m'\u001b[39m\u001b[39mcurrentSpeed\u001b[39m\u001b[39m'\u001b[39m]) \u001b[39m/\u001b[39m \u001b[39mfloat\u001b[39m(traffic[\u001b[39m'\u001b[39m\u001b[39mflowSegmentData\u001b[39m\u001b[39m'\u001b[39m][\u001b[39m'\u001b[39m\u001b[39mfreeFlowSpeed\u001b[39m\u001b[39m'\u001b[39m])\n\u001b[0;32m      4\u001b[0m     \u001b[39mreturn\u001b[39;00m res\n",
      "File \u001b[1;32mc:\\Users\\amitu\\Documents\\Projects\\routing\\venv\\lib\\site-packages\\requests\\models.py:975\u001b[0m, in \u001b[0;36mResponse.json\u001b[1;34m(self, **kwargs)\u001b[0m\n\u001b[0;32m    971\u001b[0m     \u001b[39mreturn\u001b[39;00m complexjson\u001b[39m.\u001b[39mloads(\u001b[39mself\u001b[39m\u001b[39m.\u001b[39mtext, \u001b[39m*\u001b[39m\u001b[39m*\u001b[39mkwargs)\n\u001b[0;32m    972\u001b[0m \u001b[39mexcept\u001b[39;00m JSONDecodeError \u001b[39mas\u001b[39;00m e:\n\u001b[0;32m    973\u001b[0m     \u001b[39m# Catch JSON-related errors and raise as requests.JSONDecodeError\u001b[39;00m\n\u001b[0;32m    974\u001b[0m     \u001b[39m# This aliases json.JSONDecodeError and simplejson.JSONDecodeError\u001b[39;00m\n\u001b[1;32m--> 975\u001b[0m     \u001b[39mraise\u001b[39;00m RequestsJSONDecodeError(e\u001b[39m.\u001b[39mmsg, e\u001b[39m.\u001b[39mdoc, e\u001b[39m.\u001b[39mpos)\n",
      "\u001b[1;31mJSONDecodeError\u001b[0m: Expecting value: line 1 column 1 (char 0)"
     ]
    }
   ],
   "source": [
    "trafficData = dict()\n",
    "print(len(G.nodes.items()))\n",
    "for k, v in G.nodes.items():\n",
    "    trafficData[k] = get_traffic_rate(v['y'], v['x'])"
   ]
  },
  {
   "cell_type": "code",
   "execution_count": 15,
   "metadata": {},
   "outputs": [
    {
     "data": {
      "text/plain": [
       "61.724"
      ]
     },
     "execution_count": 15,
     "metadata": {},
     "output_type": "execute_result"
    }
   ],
   "source": [
    "154310 / 2500"
   ]
  }
 ],
 "metadata": {
  "kernelspec": {
   "display_name": "Python 3 (ipykernel)",
   "language": "python",
   "name": "python3"
  },
  "language_info": {
   "codemirror_mode": {
    "name": "ipython",
    "version": 3
   },
   "file_extension": ".py",
   "mimetype": "text/x-python",
   "name": "python",
   "nbconvert_exporter": "python",
   "pygments_lexer": "ipython3",
   "version": "3.10.7"
  }
 },
 "nbformat": 4,
 "nbformat_minor": 2
}
